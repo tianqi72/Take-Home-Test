{
 "cells": [
  {
   "cell_type": "code",
   "execution_count": 1,
   "metadata": {},
   "outputs": [],
   "source": [
    "import duckdb"
   ]
  },
  {
   "cell_type": "code",
   "execution_count": 2,
   "metadata": {},
   "outputs": [],
   "source": [
    "# Establish connection to the local database\n",
    "conn = duckdb.connect('life_expectancy.db')"
   ]
  },
  {
   "cell_type": "code",
   "execution_count": 3,
   "metadata": {},
   "outputs": [
    {
     "data": {
      "text/plain": [
       "┌──────────────┬─────────────────────┬───────────────────┐\n",
       "│ country_name │ interval_start_year │ interval_end_year │\n",
       "│   varchar    │        int32        │       int32       │\n",
       "├──────────────┼─────────────────────┼───────────────────┤\n",
       "│ Zambia       │                1977 │              1998 │\n",
       "└──────────────┴─────────────────────┴───────────────────┘"
      ]
     },
     "execution_count": 3,
     "metadata": {},
     "output_type": "execute_result"
    }
   ],
   "source": [
    "cursor = conn.cursor()\n",
    "cursor.sql('''\n",
    "            -- Create a column to determine whether life expectancy is declining or not\n",
    "            -- by calculating the difference between current row and next row\n",
    "            -- Get the ranking of each row within each country for later calculation\n",
    "            WITH ranked_data AS (\n",
    "                SELECT\n",
    "                    entity AS country_name,\n",
    "                    year,\n",
    "                    life_expectancy,\n",
    "                    CASE WHEN LEAD(life_expectancy) OVER(PARTITION BY country_name ORDER BY year) - life_expectancy <= 0\n",
    "                         THEN True ELSE False \n",
    "                         END AS decline,\n",
    "                    ROW_NUMBER() OVER (PARTITION BY entity ORDER BY year) AS overall_ranking\n",
    "                FROM life_expectancy\n",
    "           )\n",
    "            -- Group by each interval and count the number of rows within each interval\n",
    "            SELECT \n",
    "                country_name, \n",
    "                MIN(year) interval_start_year,\n",
    "                MAX(year) interval_end_year\n",
    "            FROM (\n",
    "                    -- Create ranking within each group, which is partitioned by a window function based on decline or not \n",
    "                    -- If the difference between overall ranking and subgroup ranking is the same\n",
    "                    -- then the life expectancy within this group follows the same trend (increasing or decreasing)\n",
    "                    SELECT \n",
    "                        *,\n",
    "                        ROW_NUMBER() OVER (PARTITION BY country_name, decline ORDER BY year) AS row_n,\n",
    "                        overall_ranking - row_n interval_id    \n",
    "                    FROM ranked_data\n",
    "                    ORDER BY country_name, year\n",
    "                ) AS period\n",
    "           WHERE decline = True\n",
    "           GROUP BY country_name, interval_id\n",
    "           ORDER BY COUNT(*) DESC\n",
    "           LIMIT 1;\n",
    "           ''')"
   ]
  },
  {
   "cell_type": "code",
   "execution_count": 4,
   "metadata": {},
   "outputs": [],
   "source": [
    "cursor.close()"
   ]
  },
  {
   "cell_type": "code",
   "execution_count": 5,
   "metadata": {},
   "outputs": [],
   "source": [
    "# Close the connection\n",
    "conn.close()"
   ]
  }
 ],
 "metadata": {
  "kernelspec": {
   "display_name": "base",
   "language": "python",
   "name": "python3"
  },
  "language_info": {
   "codemirror_mode": {
    "name": "ipython",
    "version": 3
   },
   "file_extension": ".py",
   "mimetype": "text/x-python",
   "name": "python",
   "nbconvert_exporter": "python",
   "pygments_lexer": "ipython3",
   "version": "3.8.2"
  },
  "orig_nbformat": 4
 },
 "nbformat": 4,
 "nbformat_minor": 2
}
